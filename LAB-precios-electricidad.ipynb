{
 "cells": [
  {
   "cell_type": "markdown",
   "metadata": {},
   "source": [
    "Evolución de los Precios de la Electricidad\n",
    "==="
   ]
  },
  {
   "cell_type": "markdown",
   "metadata": {},
   "source": [
    "# Instrucciones"
   ]
  },
  {
   "cell_type": "markdown",
   "metadata": {},
   "source": [
    "En el archivo `precios.zip`  se encuentran los archivos `Precio_Bolsa_Nacional_($kwh)_ano.xls` en formato de Microsoft Excel, los cuales contienen los precios históricos horarios de la electricidad para el mercado eléctrico Colombiano entre los años 1995 y 2017 en COL-PESOS/kWh. A partir de la información suministrada realice las siguientes actividades. "
   ]
  },
  {
   "cell_type": "code",
   "execution_count": 32,
   "metadata": {},
   "outputs": [],
   "source": [
    "## importa la librería\n",
    "import pandas as pd"
   ]
  },
  {
   "cell_type": "code",
   "execution_count": 34,
   "metadata": {},
   "outputs": [
    {
     "data": {
      "text/plain": [
       "                             Unnamed: 0  Unnamed: 1  Unnamed: 2  Unnamed: 3  \\\n",
       "0    Precio Bolsa Nacional ($/kWh) 1995         NaN         NaN         NaN   \n",
       "1                                   NaN         NaN         NaN         NaN   \n",
       "2                                 Fecha       0.000       1.000       2.000   \n",
       "3                            1995-07-20         NaN       1.073       1.073   \n",
       "4                            1995-07-21       1.073       1.000       1.000   \n",
       "5                            1995-07-22       1.073       1.073       1.000   \n",
       "6                            1995-07-23       1.073       1.000       1.000   \n",
       "7                            1995-07-24       1.000       1.000       0.990   \n",
       "8                            1995-07-25       0.990       0.990       0.989   \n",
       "9                            1995-07-26       0.500       0.500       0.500   \n",
       "10                           1995-07-27       0.500       0.500       0.500   \n",
       "11                           1995-07-28       0.000       0.000       0.000   \n",
       "12                           1995-07-29       1.000       1.000       0.000   \n",
       "13                           1995-07-30       1.072       1.000       0.000   \n",
       "14                           1995-07-31       0.000       0.000       0.000   \n",
       "15                           1995-08-01       0.000       0.000       0.000   \n",
       "16                           1995-08-02       1.073       1.073       1.073   \n",
       "17                           1995-08-03       1.073       1.073       1.073   \n",
       "18                           1995-08-04       1.073       1.073       1.073   \n",
       "19                           1995-08-05       2.000       2.000       2.000   \n",
       "20                           1995-08-06       3.000       1.073       1.073   \n",
       "21                           1995-08-07       3.000       3.000       3.000   \n",
       "22                           1995-08-08       3.000       3.000       3.000   \n",
       "23                           1995-08-09      10.000      10.000      10.000   \n",
       "24                           1995-08-10      18.000      18.000      18.000   \n",
       "25                           1995-08-11      12.000       6.000       6.000   \n",
       "26                           1995-08-12      30.000      15.000       1.074   \n",
       "27                           1995-08-13      35.000      18.000      17.000   \n",
       "28                           1995-08-14      17.000       1.074      12.000   \n",
       "29                           1995-08-15       1.074       1.074       1.074   \n",
       "..                                  ...         ...         ...         ...   \n",
       "138                          1995-12-02     120.000     120.000     120.000   \n",
       "139                          1995-12-03     130.001     130.001     130.001   \n",
       "140                          1995-12-04     160.001     160.001     135.000   \n",
       "141                          1995-12-05      78.620      78.620      24.500   \n",
       "142                          1995-12-06      22.300      22.300      22.200   \n",
       "143                          1995-12-07      31.716      31.716      31.716   \n",
       "144                          1995-12-08      20.000      15.468      15.468   \n",
       "145                          1995-12-09      79.627      22.400      22.400   \n",
       "146                          1995-12-10     172.660      88.524      40.000   \n",
       "147                          1995-12-11      30.000      20.000      20.000   \n",
       "148                          1995-12-12      40.000      40.000      40.000   \n",
       "149                          1995-12-13      60.000      55.000      55.000   \n",
       "150                          1995-12-14      20.000      20.000      20.000   \n",
       "151                          1995-12-15      20.000      16.640      15.000   \n",
       "152                          1995-12-16      15.000      15.000      15.000   \n",
       "153                          1995-12-17       9.890       1.500       1.500   \n",
       "154                          1995-12-18      20.000      15.000      15.000   \n",
       "155                          1995-12-19      40.000      40.000      40.000   \n",
       "156                          1995-12-20      40.000      40.000      40.000   \n",
       "157                          1995-12-21      40.000      30.000      30.000   \n",
       "158                          1995-12-22      15.000      15.000      15.000   \n",
       "159                          1995-12-23      13.700       1.074       1.074   \n",
       "160                          1995-12-24      40.000      35.000      30.000   \n",
       "161                          1995-12-25      18.465      15.000       1.074   \n",
       "162                          1995-12-26      19.900      15.000      15.000   \n",
       "163                          1995-12-27      15.000      15.000      15.000   \n",
       "164                          1995-12-28      14.900      14.900      14.900   \n",
       "165                          1995-12-29      11.990      11.990      11.990   \n",
       "166                          1995-12-30      13.500      12.000      12.000   \n",
       "167                          1995-12-31      15.000      14.990      14.990   \n",
       "\n",
       "     Unnamed: 4  Unnamed: 5  Unnamed: 6  Unnamed: 7  Unnamed: 8  Unnamed: 9  \\\n",
       "0           NaN         NaN         NaN         NaN         NaN         NaN   \n",
       "1           NaN         NaN         NaN         NaN         NaN         NaN   \n",
       "2         3.000       4.000       5.000       6.000       7.000       8.000   \n",
       "3         1.073       1.073       1.073       1.073       1.073       1.074   \n",
       "4         1.000       1.000       1.000       5.000       6.000       6.000   \n",
       "5         1.000       1.000       1.073       1.303       1.303       1.303   \n",
       "6         1.000       1.000       1.000       0.100       1.000       1.000   \n",
       "7         1.000       1.000       1.073       3.000       3.000       3.000   \n",
       "8         0.990       0.990       1.073       1.263       1.263       1.263   \n",
       "9         0.500       0.500       0.990       1.073       1.073       1.073   \n",
       "10        0.500       0.500       0.500       0.500       0.500       0.500   \n",
       "11        0.000       0.000       0.463       0.463       1.000       0.463   \n",
       "12        0.000       1.000       0.000       1.070       1.070       1.070   \n",
       "13        0.000       0.000       0.000       0.100       1.000       1.072   \n",
       "14        0.000       0.000       1.000       1.073       0.000       0.000   \n",
       "15        0.000       0.000       1.070       1.073       0.000       1.070   \n",
       "16        1.073       1.073       1.073       1.100       1.073       1.073   \n",
       "17        1.073       1.073       1.100       2.000       2.000       2.000   \n",
       "18        1.073       1.073       2.000       2.000       2.000       2.000   \n",
       "19        1.073       2.000       2.500       2.500       2.558       2.558   \n",
       "20        1.073       1.073       3.000       3.000       3.000       3.200   \n",
       "21        1.073       3.000       3.000       3.500       3.500       3.700   \n",
       "22        3.000       5.800       7.000       7.000       9.000       8.000   \n",
       "23       10.000      10.000      13.788      17.000      15.000      15.000   \n",
       "24       18.000      18.000      18.000      21.000      21.000      21.000   \n",
       "25        6.000      22.600      25.000      25.000      25.000      25.000   \n",
       "26       15.000      17.500      30.000      30.000      31.000      40.000   \n",
       "27       18.000      18.000      24.600      32.000      39.492      40.000   \n",
       "28       12.000      17.500      39.492      40.000      40.000      40.000   \n",
       "29        1.074       1.074      17.500      20.000      20.000      20.000   \n",
       "..          ...         ...         ...         ...         ...         ...   \n",
       "138     120.000     120.000     120.000      73.000     117.112     117.112   \n",
       "139     130.001     130.001     130.001     117.112     130.000     124.627   \n",
       "140     130.002     160.000     135.001     132.001     132.001     132.001   \n",
       "141      40.882      70.734     137.413     137.413     137.413     137.413   \n",
       "142      22.200      22.400      22.400     147.070     147.070     147.070   \n",
       "143      31.716      31.716      31.716     100.000     156.248     156.248   \n",
       "144      14.000      15.468      20.000      22.400      22.400      32.913   \n",
       "145      22.400      22.400      32.913     170.600     170.600     170.600   \n",
       "146      79.627      79.627      36.900      30.000     172.660     172.660   \n",
       "147      20.000      36.900      22.300      36.900     179.730     179.730   \n",
       "148      40.000      40.000      40.000      73.000     179.001     179.001   \n",
       "149      50.000      55.000      60.000     120.000     120.000     120.000   \n",
       "150      20.000      20.000      20.000      40.000      55.000      60.000   \n",
       "151      15.000      20.000      20.000      60.000      60.000      60.000   \n",
       "152      15.000      15.000      15.000      60.000      60.000      60.000   \n",
       "153       1.500       1.500       1.500      10.000      13.000      13.700   \n",
       "154      20.000      30.000      55.000      55.000      55.000      55.000   \n",
       "155      40.000      40.000      60.000      65.000      65.000      65.000   \n",
       "156      40.000      40.000      60.000      60.000      60.000      60.000   \n",
       "157      30.000      40.000      60.000      70.000      70.000      70.000   \n",
       "158      15.000      15.000      18.465      40.000      60.000      60.000   \n",
       "159       1.074      12.650      15.000      20.000      20.000      20.000   \n",
       "160      21.000      21.000      32.700       9.700      15.000      18.465   \n",
       "161       1.074       1.074       1.074       1.074       1.074       1.074   \n",
       "162      15.000      16.640      25.000      15.000      15.000      25.000   \n",
       "163      15.000      15.000      15.000      15.000      15.000      15.000   \n",
       "164      14.900      14.900      15.000      25.000      25.000      25.000   \n",
       "165      11.990      15.000      15.243      13.600      30.000      30.000   \n",
       "166      12.000       9.700      13.500      14.300      18.000      30.000   \n",
       "167      14.990      14.990      14.990      14.990      12.000      13.000   \n",
       "\n",
       "     ...  Unnamed: 15  Unnamed: 16  Unnamed: 17  Unnamed: 18  Unnamed: 19  \\\n",
       "0    ...          NaN          NaN          NaN          NaN          NaN   \n",
       "1    ...          NaN          NaN          NaN          NaN          NaN   \n",
       "2    ...       14.000       15.000       16.000       17.000       18.000   \n",
       "3    ...        1.073        1.073        1.073        1.073        1.074   \n",
       "4    ...        5.000        1.000        1.000        5.000       12.000   \n",
       "5    ...        1.073        1.000        1.000        1.000        1.303   \n",
       "6    ...        1.000        0.100        0.100        1.000        1.238   \n",
       "7    ...        1.073        1.073        3.000        2.000       18.630   \n",
       "8    ...        1.073        1.073        1.073        1.073        1.263   \n",
       "9    ...        0.500        0.500        0.990        0.990        1.073   \n",
       "10   ...        0.500        0.500        0.500        0.500        1.073   \n",
       "11   ...        0.463        0.463        0.463        0.463        1.073   \n",
       "12   ...        1.070        1.070        1.070        1.070        1.070   \n",
       "13   ...        1.000        0.000        0.000        0.100        1.072   \n",
       "14   ...        0.000        0.000        0.000        0.000        1.073   \n",
       "15   ...        0.000        0.000        0.000        0.000        1.070   \n",
       "16   ...        1.073        1.073        1.100        1.073        1.073   \n",
       "17   ...        1.073        1.073        1.500        1.073        2.000   \n",
       "18   ...        2.000        2.000        2.000        2.000        2.000   \n",
       "19   ...        2.500        2.500        2.500        2.500        2.558   \n",
       "20   ...        3.000        1.070        1.070        1.000        3.000   \n",
       "21   ...        3.500        3.500        3.500        3.500        5.000   \n",
       "22   ...        7.000        7.000        7.000        7.000        8.000   \n",
       "23   ...       13.788       13.788       13.788       13.788       16.001   \n",
       "24   ...       21.000       21.000       21.000       21.000       21.000   \n",
       "25   ...       25.000       25.000       25.000       25.000       25.000   \n",
       "26   ...       31.000       31.000       31.000       31.000       40.000   \n",
       "27   ...       40.000       39.492       39.492       39.492       40.000   \n",
       "28   ...       40.000       40.000       40.000       40.000       40.000   \n",
       "29   ...       20.000       20.000       20.000       20.000       20.000   \n",
       "..   ...          ...          ...          ...          ...          ...   \n",
       "138  ...      130.000       90.000      130.000      130.001      117.112   \n",
       "139  ...       73.000       73.000       73.000      130.001      124.627   \n",
       "140  ...      132.001      132.001      130.003      130.001      130.001   \n",
       "141  ...      137.413      137.413      137.413      137.413      137.413   \n",
       "142  ...       73.000       79.627      147.070      147.070      147.070   \n",
       "143  ...       79.627       79.627      156.248      156.248      156.248   \n",
       "144  ...       25.000       25.000       25.000       25.000      170.263   \n",
       "145  ...      170.600      170.600      170.600      170.600      170.600   \n",
       "146  ...      172.660      172.660      172.660      172.660      172.660   \n",
       "147  ...      100.000      179.730      179.730      179.730      179.730   \n",
       "148  ...      179.001      179.001      179.001      179.001      179.001   \n",
       "149  ...      120.000      120.000      120.000      120.000      179.000   \n",
       "150  ...       79.627       60.000       60.000       60.000      120.000   \n",
       "151  ...       60.000       60.000       60.000       60.000      100.000   \n",
       "152  ...       60.000       60.000       12.600       15.000       80.000   \n",
       "153  ...       55.000       32.913       20.000       55.000       60.000   \n",
       "154  ...       30.000       55.000       55.000       55.000       65.000   \n",
       "155  ...       71.000       71.000       71.000       75.001       75.001   \n",
       "156  ...       60.000       60.000       60.000       60.000       75.001   \n",
       "157  ...       70.000       70.000       70.000       70.000       80.000   \n",
       "158  ...       40.000       60.000       60.000       60.000       75.000   \n",
       "159  ...       20.000       20.000       20.000       20.000       60.000   \n",
       "160  ...        5.000        5.000        1.074        9.700       60.000   \n",
       "161  ...        1.074        1.074        1.074        1.074       60.000   \n",
       "162  ...       15.000       15.000       15.000       20.000       40.000   \n",
       "163  ...       15.000       15.000       15.000       15.243       41.000   \n",
       "164  ...       25.000       25.000       25.000       30.000       41.000   \n",
       "165  ...       30.000       20.000       14.300       30.000       41.000   \n",
       "166  ...       14.990       14.990        8.052       12.000       40.000   \n",
       "167  ...       11.990        1.074        1.074        1.074       14.350   \n",
       "\n",
       "     Unnamed: 20  Unnamed: 21  Unnamed: 22  Unnamed: 23  Unnamed: 24  \n",
       "0            NaN          NaN          NaN          NaN          NaN  \n",
       "1            NaN          NaN          NaN          NaN          NaN  \n",
       "2         19.000       20.000       21.000       22.000       23.000  \n",
       "3          1.897        1.897        1.897        1.073        1.073  \n",
       "4         16.670       11.929        5.000        1.000        1.000  \n",
       "5          2.500        2.500        1.303        1.073        1.073  \n",
       "6          1.238        1.238        1.238        1.073        1.000  \n",
       "7         22.500        9.256        3.000        1.073        1.000  \n",
       "8          1.500        1.263        1.263        1.073        0.990  \n",
       "9          8.000        1.073        0.990        0.500        0.000  \n",
       "10         1.500        0.990        0.500        0.500        0.500  \n",
       "11         1.073        1.073        1.000        0.000        0.000  \n",
       "12         1.070        1.072        1.070        1.070        1.070  \n",
       "13         1.073        1.073        1.072        1.072        0.000  \n",
       "14         8.845        1.073        1.073        1.000        0.000  \n",
       "15         1.073        0.000        0.000        0.000        0.000  \n",
       "16         1.073        1.073        1.100        1.073        1.073  \n",
       "17         2.000        2.000        2.000        1.100        1.073  \n",
       "18         2.000        2.000        2.000        2.000        1.500  \n",
       "19         2.558        2.558        2.558        2.500        2.500  \n",
       "20         3.200        3.200        3.200        3.000        1.070  \n",
       "21         8.000        5.000        5.000        3.500        3.000  \n",
       "22         9.000        8.000        8.000        7.000        5.800  \n",
       "23        16.001       16.001       15.000       13.788       12.000  \n",
       "24        22.000       21.000       21.000       18.000       18.000  \n",
       "25        25.000       25.000       25.000       25.000        6.000  \n",
       "26        40.000       40.000       39.492       31.000       30.000  \n",
       "27        40.000       40.000       40.000       40.000       23.300  \n",
       "28        40.000       40.000       40.000       40.000       17.500  \n",
       "29        23.300       20.000       20.000        1.074        1.074  \n",
       "..           ...          ...          ...          ...          ...  \n",
       "138      117.112      117.112      117.112      130.001      130.000  \n",
       "139      124.627      124.627      130.001      130.001      130.001  \n",
       "140      124.627      124.627      130.003      135.001      135.001  \n",
       "141      137.413      137.413      137.413      137.413      137.413  \n",
       "142      147.070      147.070      147.070       73.000       73.000  \n",
       "143      156.248      156.248      156.248       73.000       73.000  \n",
       "144      170.263      170.263       73.000       73.000       73.000  \n",
       "145      170.600      170.600      170.600      170.600      170.600  \n",
       "146      172.660      172.660       22.400      172.660       28.900  \n",
       "147      179.730      179.730      179.730      100.000       73.000  \n",
       "148      179.001      179.001      179.001      100.000       73.000  \n",
       "149      179.000      120.000      120.000       60.000       36.900  \n",
       "150      120.000       69.810       80.000       60.000       60.000  \n",
       "151      100.000       60.000       55.000       60.000       50.000  \n",
       "152       80.000       80.000       60.000       80.000       60.000  \n",
       "153       60.000       55.000       55.000       55.000       20.000  \n",
       "154       65.000       60.000       60.000       55.000       55.000  \n",
       "155       75.001       75.001       75.001       70.000       60.000  \n",
       "156       71.000       75.001       80.000       71.000       60.000  \n",
       "157       75.000       75.000       70.000       70.000       60.000  \n",
       "158       75.000       60.000       60.000       60.000       60.000  \n",
       "159       60.395       60.000       42.131       20.000       20.000  \n",
       "160       60.000       60.000       19.900       30.000       30.000  \n",
       "161       60.000       60.000       15.000       10.000       10.000  \n",
       "162       40.000       40.000       25.000       15.000       15.000  \n",
       "163       41.000       40.000       40.000       15.000       10.000  \n",
       "164       41.000       41.000       15.000       15.000       14.900  \n",
       "165       41.000       41.000       40.000       30.000       13.700  \n",
       "166       41.000       40.000       40.000       14.990       13.000  \n",
       "167       20.000       13.700       14.990       30.000       18.000  \n",
       "\n",
       "[168 rows x 25 columns]"
      ]
     },
     "execution_count": 34,
     "metadata": {},
     "output_type": "execute_result"
    }
   ],
   "source": [
    "pd.read_excel('precios/Precio_Bolsa_Nacional_($kwh)_1995.xlsx')"
   ]
  },
  {
   "cell_type": "code",
   "execution_count": null,
   "metadata": {},
   "outputs": [],
   "source": []
  },
  {
   "cell_type": "code",
   "execution_count": null,
   "metadata": {},
   "outputs": [],
   "source": []
  },
  {
   "cell_type": "code",
   "execution_count": null,
   "metadata": {},
   "outputs": [],
   "source": []
  },
  {
   "cell_type": "markdown",
   "metadata": {},
   "source": [
    "**1.--** Lea los archivos y cree una tabla única concatenando la información para cada uno de los años. Debe transformar la tabla de tal forma que quede con las columnas `Fecha`, `Hora` y `Precio` (únicamente tres columnas)."
   ]
  },
  {
   "cell_type": "code",
   "execution_count": 49,
   "metadata": {},
   "outputs": [],
   "source": [
    "def leer_precios(filename):\n",
    "    for k in range(10):\n",
    "        df = pd.read_excel(filename,\n",
    "                           skiprows = k,\n",
    "                           usecols = list(range(26)))\n",
    "        if df.iloc[0,0] == 'Fecha':\n",
    "            df = pd.read_excel(filename,\n",
    "                               skiprows = k+1,\n",
    "                               usecols = list(range(26)))\n",
    "            break\n",
    "        \n",
    "    return(df)"
   ]
  },
  {
   "cell_type": "code",
   "execution_count": 65,
   "metadata": {},
   "outputs": [
    {
     "data": {
      "text/plain": [
       "['precios/Precio_Bolsa_Nacional_($kwh)_1995.xlsx',\n",
       " 'precios/Precio_Bolsa_Nacional_($kwh)_1996.xlsx',\n",
       " 'precios/Precio_Bolsa_Nacional_($kwh)_1997.xlsx',\n",
       " 'precios/Precio_Bolsa_Nacional_($kwh)_1998.xlsx',\n",
       " 'precios/Precio_Bolsa_Nacional_($kwh)_1999.xlsx',\n",
       " 'precios/Precio_Bolsa_Nacional_($kwh)_2000.xlsx',\n",
       " 'precios/Precio_Bolsa_Nacional_($kwh)_2001.xlsx',\n",
       " 'precios/Precio_Bolsa_Nacional_($kwh)_2002.xlsx',\n",
       " 'precios/Precio_Bolsa_Nacional_($kwh)_2003.xlsx',\n",
       " 'precios/Precio_Bolsa_Nacional_($kwh)_2004.xlsx',\n",
       " 'precios/Precio_Bolsa_Nacional_($kwh)_2005.xlsx',\n",
       " 'precios/Precio_Bolsa_Nacional_($kwh)_2006.xlsx',\n",
       " 'precios/Precio_Bolsa_Nacional_($kwh)_2007.xlsx',\n",
       " 'precios/Precio_Bolsa_Nacional_($kwh)_2008.xlsx',\n",
       " 'precios/Precio_Bolsa_Nacional_($kwh)_2009.xlsx',\n",
       " 'precios/Precio_Bolsa_Nacional_($kwh)_2010.xlsx',\n",
       " 'precios/Precio_Bolsa_Nacional_($kwh)_2011.xlsx',\n",
       " 'precios/Precio_Bolsa_Nacional_($kwh)_2012.xlsx',\n",
       " 'precios/Precio_Bolsa_Nacional_($kwh)_2013.xlsx',\n",
       " 'precios/Precio_Bolsa_Nacional_($kwh)_2014.xlsx',\n",
       " 'precios/Precio_Bolsa_Nacional_($kwh)_2015.xlsx',\n",
       " 'precios/Precio_Bolsa_Nacional_($kwh)_2016.xls',\n",
       " 'precios/Precio_Bolsa_Nacional_($kwh)_2017.xls',\n",
       " 'precios/Precio_Bolsa_Nacional_($kwh)_2018.xls']"
      ]
     },
     "execution_count": 65,
     "metadata": {},
     "output_type": "execute_result"
    }
   ],
   "source": [
    "#definir variable filenames que contiene los archivos de la carpeta precios que tienen una terminacion con patron .xls\n",
    "filenames = !ls precios/*.xls*\n",
    "filenames"
   ]
  },
  {
   "cell_type": "code",
   "execution_count": 88,
   "metadata": {},
   "outputs": [],
   "source": [
    "#crear carpeta vacia\n",
    "dfs = []"
   ]
  },
  {
   "cell_type": "code",
   "execution_count": 89,
   "metadata": {},
   "outputs": [],
   "source": [
    "#concatenar archivos de filenames\n",
    "for filename in filenames:\n",
    "    dfs.append(leer_precios(filename))"
   ]
  },
  {
   "cell_type": "code",
   "execution_count": 91,
   "metadata": {},
   "outputs": [
    {
     "data": {
      "text/plain": [
       "218634"
      ]
     },
     "execution_count": 91,
     "metadata": {},
     "output_type": "execute_result"
    }
   ],
   "source": [
    "dfs = pd.concat(dfs, sort=True)\n",
    "dfs.size"
   ]
  },
  {
   "cell_type": "code",
   "execution_count": 92,
   "metadata": {},
   "outputs": [
    {
     "data": {
      "text/plain": [
       "(8409, 26)"
      ]
     },
     "execution_count": 92,
     "metadata": {},
     "output_type": "execute_result"
    }
   ],
   "source": [
    "dfs.shape"
   ]
  },
  {
   "cell_type": "code",
   "execution_count": 94,
   "metadata": {},
   "outputs": [
    {
     "data": {
      "text/plain": [
       "             Fecha variable  value\n",
       "0       1995-07-20        0    NaN\n",
       "1       1995-07-21        0  1.073\n",
       "2       1995-07-22        0  1.073\n",
       "3       1995-07-23        0  1.073\n",
       "4       1995-07-24        0      1\n",
       "5       1995-07-25        0   0.99\n",
       "6       1995-07-26        0    0.5\n",
       "7       1995-07-27        0    0.5\n",
       "8       1995-07-28        0      0\n",
       "9       1995-07-29        0      1\n",
       "10      1995-07-30        0  1.072\n",
       "11      1995-07-31        0      0\n",
       "12      1995-08-01        0      0\n",
       "13      1995-08-02        0  1.073\n",
       "14      1995-08-03        0  1.073\n",
       "15      1995-08-04        0  1.073\n",
       "16      1995-08-05        0      2\n",
       "17      1995-08-06        0      3\n",
       "18      1995-08-07        0      3\n",
       "19      1995-08-08        0      3\n",
       "20      1995-08-09        0     10\n",
       "21      1995-08-10        0     18\n",
       "22      1995-08-11        0     12\n",
       "23      1995-08-12        0     30\n",
       "24      1995-08-13        0     35\n",
       "25      1995-08-14        0     17\n",
       "26      1995-08-15        0  1.074\n",
       "27      1995-08-16        0  1.074\n",
       "28      1995-08-17        0      1\n",
       "29      1995-08-18        0  1.075\n",
       "...            ...      ...    ...\n",
       "210195  2018-04-06  Version    TXR\n",
       "210196  2018-04-07  Version    TXR\n",
       "210197  2018-04-08  Version    TXR\n",
       "210198  2018-04-09  Version    TXR\n",
       "210199  2018-04-10  Version    TXR\n",
       "210200  2018-04-11  Version    TXR\n",
       "210201  2018-04-12  Version    TXR\n",
       "210202  2018-04-13  Version    TXR\n",
       "210203  2018-04-14  Version    TXR\n",
       "210204  2018-04-15  Version    TXR\n",
       "210205  2018-04-16  Version    TXR\n",
       "210206  2018-04-17  Version    TXR\n",
       "210207  2018-04-18  Version    TXR\n",
       "210208  2018-04-19  Version    TXR\n",
       "210209  2018-04-20  Version    TXR\n",
       "210210  2018-04-21  Version    TXR\n",
       "210211  2018-04-22  Version    TXR\n",
       "210212  2018-04-23  Version    TXR\n",
       "210213  2018-04-24  Version    TXR\n",
       "210214  2018-04-25  Version    TXR\n",
       "210215  2018-04-26  Version    TXR\n",
       "210216  2018-04-27  Version    TXR\n",
       "210217  2018-04-28  Version    TXR\n",
       "210218  2018-04-29  Version    TXR\n",
       "210219  2018-04-30  Version    TXR\n",
       "210220  2018-05-01  Version    TX2\n",
       "210221  2018-05-02  Version    TX2\n",
       "210222  2018-05-03  Version    TX1\n",
       "210223  2018-05-04  Version    TX1\n",
       "210224  2018-05-05  Version    TX1\n",
       "\n",
       "[210225 rows x 3 columns]"
      ]
     },
     "execution_count": 94,
     "metadata": {},
     "output_type": "execute_result"
    }
   ],
   "source": [
    "pd.melt(dfs,id_vars='Fecha')"
   ]
  },
  {
   "cell_type": "code",
   "execution_count": 95,
   "metadata": {},
   "outputs": [
    {
     "data": {
      "text/plain": [
       "Index(['index', 'name', 'value'], dtype='object')"
      ]
     },
     "execution_count": 95,
     "metadata": {},
     "output_type": "execute_result"
    }
   ],
   "source": [
    "df.columns"
   ]
  },
  {
   "cell_type": "markdown",
   "metadata": {},
   "source": [
    "**2.--** Compute e imprima el número de registros con datos faltantes."
   ]
  },
  {
   "cell_type": "markdown",
   "metadata": {},
   "source": [
    "**3.--** Compute e imprima el número de registros duplicados."
   ]
  },
  {
   "cell_type": "code",
   "execution_count": null,
   "metadata": {},
   "outputs": [],
   "source": [
    "#contar numero de registros- filas\n",
    "#una variable nueva para que identifique repetidos"
   ]
  },
  {
   "cell_type": "markdown",
   "metadata": {},
   "source": [
    "**4.--** Elimine los registros con datos duplicados o datos faltantes, e imprima la cantidad de registros que quedan (registros completos)."
   ]
  },
  {
   "cell_type": "markdown",
   "metadata": {},
   "source": [
    "**5.--** Compute y grafique el precio primedio diario."
   ]
  },
  {
   "cell_type": "code",
   "execution_count": null,
   "metadata": {},
   "outputs": [],
   "source": [
    "#groupby con promedio / precio"
   ]
  },
  {
   "cell_type": "markdown",
   "metadata": {},
   "source": [
    "**6.--** Compute y grafique el precio máximo por mes."
   ]
  },
  {
   "cell_type": "markdown",
   "metadata": {},
   "source": [
    "**7.--** Compute y grafique el precio mínimo mensual."
   ]
  },
  {
   "cell_type": "code",
   "execution_count": null,
   "metadata": {},
   "outputs": [],
   "source": [
    "#fecha sacarle el mes agrupar por mes y sacar el minimo"
   ]
  },
  {
   "cell_type": "markdown",
   "metadata": {},
   "source": [
    "**8.--** Haga un gráfico para comparar el precio máximo del mes (para cada mes) y el precio promedio mensual."
   ]
  },
  {
   "cell_type": "markdown",
   "metadata": {},
   "source": [
    "**9.--** Haga un histograma que muestre a que horas se produce el máximo precio diario para los días laborales."
   ]
  },
  {
   "cell_type": "code",
   "execution_count": null,
   "metadata": {},
   "outputs": [],
   "source": [
    "#es una curva, el pico normal es entre 7 y 9, \n",
    "#coger de cada dia en que hora\n",
    "#para cuantos dias la hora pico es la 5, 6, 7 , 8 9....es de lunes a viernes\n",
    "#se deben quitar sabados y domingos\n",
    "#se deben convertir las fechas a dias"
   ]
  },
  {
   "cell_type": "markdown",
   "metadata": {},
   "source": [
    "**10.--** Haga un histograma que muestre a que horas se produce el máximo precio diario para los días sabado."
   ]
  },
  {
   "cell_type": "markdown",
   "metadata": {},
   "source": [
    "**11.--** Haga un histograma que muestre a que horas se produce el máximo precio diario para los días domingo."
   ]
  },
  {
   "cell_type": "markdown",
   "metadata": {},
   "source": [
    "**12.--** Imprima una tabla con la fecha y el valor más bajo por año del precio de bolsa."
   ]
  },
  {
   "cell_type": "raw",
   "metadata": {},
   "source": [
    "#groupby e imprima la salida"
   ]
  },
  {
   "cell_type": "markdown",
   "metadata": {},
   "source": [
    "**13.--** Haga una gráfica en que se muestre el precio promedio diario y el precio promedio mensual."
   ]
  },
  {
   "cell_type": "markdown",
   "metadata": {},
   "source": [
    "---"
   ]
  }
 ],
 "metadata": {
  "anaconda-cloud": {},
  "kernel_info": {
   "name": "python3"
  },
  "kernelspec": {
   "display_name": "Python 3",
   "language": "python",
   "name": "python3"
  },
  "language_info": {
   "codemirror_mode": {
    "name": "ipython",
    "version": 3
   },
   "file_extension": ".py",
   "mimetype": "text/x-python",
   "name": "python",
   "nbconvert_exporter": "python",
   "pygments_lexer": "ipython3",
   "version": "3.6.7"
  },
  "nteract": {
   "version": "0.7.1"
  }
 },
 "nbformat": 4,
 "nbformat_minor": 2
}
